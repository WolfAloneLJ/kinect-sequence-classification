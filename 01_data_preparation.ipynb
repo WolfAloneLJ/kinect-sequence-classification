{
 "cells": [
  {
   "cell_type": "markdown",
   "metadata": {},
   "source": [
    "## Import packages"
   ]
  },
  {
   "cell_type": "code",
   "execution_count": 1,
   "metadata": {
    "collapsed": true
   },
   "outputs": [],
   "source": [
    "import scipy.io\n",
    "import numpy as np\n",
    "import pandas as pd\n",
    "from pathlib import Path\n",
    "from matplotlib import pyplot as plt"
   ]
  },
  {
   "cell_type": "markdown",
   "metadata": {},
   "source": [
    "## Define global variables"
   ]
  },
  {
   "cell_type": "code",
   "execution_count": 2,
   "metadata": {
    "collapsed": true
   },
   "outputs": [],
   "source": [
    "action_count = 27\n",
    "subject_count = 8\n",
    "trial_count = 4\n",
    "\n",
    "# for i in range(1, action_count + 1):\n",
    "#     for j in range(1, subject_count + 1):\n",
    "#         for k in range(1, trial_count + 1):"
   ]
  },
  {
   "cell_type": "markdown",
   "metadata": {},
   "source": [
    "## Process Depth Data\n",
    "* Dimension is 240 x 320 x (Number of frames)  \n",
    "* Convert 320 x 240 pixels to flat array\n",
    "* Create constant columns for 'action', 'subject', 'trial', 'frame'"
   ]
  },
  {
   "cell_type": "code",
   "execution_count": 15,
   "metadata": {},
   "outputs": [],
   "source": [
    "def import_depth_data(action, subject, trial):\n",
    "    filename = f'data/Depth/a{action}_s{subject}_t{trial}_depth.mat'\n",
    "    if Path(filename).is_file():\n",
    "        mat = scipy.io.loadmat(filename)\n",
    "        return mat['d_depth']\n",
    "    else:\n",
    "        return None\n",
    "\n",
    "def transform_depth_data(action, subject, trial):\n",
    "    rows = []\n",
    "    data = import_depth_data(action, subject, trial)\n",
    "    if data is None: return None\n",
    "    for frame in range(data.shape[2]):\n",
    "        pixels = data[:, :, frame].flatten()\n",
    "        rows.append(pixels)\n",
    "    result = np.insert(rows, 0, [[action], [subject], [trial], [frame]], axis=1)\n",
    "    return np.array(result)\n",
    "\n",
    "def transform_depth_data_to_df(action, subject, trial):\n",
    "    data = transform_depth_data(action, subject, trial)\n",
    "    if data is None: return None\n",
    "    df = pd.DataFrame(data)\n",
    "    df.columns = ['action', 'subject', 'trial', 'frame'] + [f'depth_{n}' for n in range(240 * 320)]\n",
    "    return df\n",
    "\n",
    "def export_depth_data_to_csv(action, subject, trial):\n",
    "    df = transform_depth_data_to_df(action, subject, trial)\n",
    "    if df is None: return None\n",
    "    filename = f'a{action}_s{subject}_t{trial}_depth.csv'\n",
    "    df.to_csv(filename, index=False)\n",
    "\n",
    "def show_depth_image(action, subject, trial, frame):\n",
    "    data = import_depth_data(action, subject, trial)\n",
    "    if data is None: return None\n",
    "    plt.imshow(data[:,:,frame], cmap='gray')\n",
    "    plt.axis('off')\n",
    "    plt.show()"
   ]
  },
  {
   "cell_type": "markdown",
   "metadata": {},
   "source": [
    "## Process Inertial Data\n",
    "* Dimension is (Number of sample) x 6  \n",
    "* The 6 columns: acceleration for x, y, z, x-angular, y-angular, z-angular"
   ]
  },
  {
   "cell_type": "code",
   "execution_count": 31,
   "metadata": {},
   "outputs": [],
   "source": [
    "def import_inertial_data(action, subject, trial):\n",
    "    filename = f'data/Inertial/a{action}_s{subject}_t{trial}_inertial.mat'\n",
    "    if Path(filename).is_file():\n",
    "        mat = scipy.io.loadmat(filename)\n",
    "        return mat['d_iner']\n",
    "    else:\n",
    "        return None\n",
    "    \n",
    "def transform_inertial_data(action, subject, trial):\n",
    "    data = import_inertial_data(action, subject, trial)\n",
    "    if data is None: return None\n",
    "    result = np.insert(data, 0, [[action], [subject], [trial]], axis=1)\n",
    "    return np.array(result)\n",
    "\n",
    "def transform_inertial_data_to_df(action, subject, trial):\n",
    "    data = transform_inertial_data(action, subject, trial)\n",
    "    if data is None: return None\n",
    "    df = pd.DataFrame(data)\n",
    "    df.columns = ['action', 'subject', 'trial', 'x-accel', 'y-accel', 'z-accel', 'x-ang-accel', 'y-ang-accel', 'z-ang-accel']\n",
    "    return df\n",
    "\n",
    "def export_inertial_data_to_csv(action, subject, trial):\n",
    "    df = transform_inertial_data_to_df(action, subject, trial)\n",
    "    if df is None: return None\n",
    "    filename = f'a{action}_s{subject}_t{trial}_inertial.csv'\n",
    "    df.to_csv(filename, index=False)"
   ]
  },
  {
   "cell_type": "markdown",
   "metadata": {},
   "source": [
    "## Process Skeleton Data"
   ]
  },
  {
   "cell_type": "code",
   "execution_count": null,
   "metadata": {
    "collapsed": true
   },
   "outputs": [],
   "source": []
  },
  {
   "cell_type": "code",
   "execution_count": null,
   "metadata": {},
   "outputs": [],
   "source": []
  },
  {
   "cell_type": "code",
   "execution_count": null,
   "metadata": {
    "collapsed": true
   },
   "outputs": [],
   "source": []
  },
  {
   "cell_type": "code",
   "execution_count": null,
   "metadata": {
    "collapsed": true
   },
   "outputs": [],
   "source": []
  },
  {
   "cell_type": "code",
   "execution_count": null,
   "metadata": {
    "collapsed": true
   },
   "outputs": [],
   "source": []
  },
  {
   "cell_type": "code",
   "execution_count": null,
   "metadata": {
    "collapsed": true
   },
   "outputs": [],
   "source": []
  },
  {
   "cell_type": "code",
   "execution_count": null,
   "metadata": {
    "collapsed": true
   },
   "outputs": [],
   "source": []
  }
 ],
 "metadata": {
  "kernelspec": {
   "display_name": "Python 3",
   "language": "python",
   "name": "python3"
  },
  "language_info": {
   "codemirror_mode": {
    "name": "ipython",
    "version": 3
   },
   "file_extension": ".py",
   "mimetype": "text/x-python",
   "name": "python",
   "nbconvert_exporter": "python",
   "pygments_lexer": "ipython3",
   "version": "3.6.1"
  }
 },
 "nbformat": 4,
 "nbformat_minor": 2
}
